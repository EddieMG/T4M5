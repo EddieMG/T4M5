{
 "cells": [
  {
   "cell_type": "code",
   "execution_count": 1,
   "metadata": {},
   "outputs": [],
   "source": [
    "import cv2\n",
    "from os import listdir\n",
    "from os.path import isfile, join\n",
    "from tqdm.auto import tqdm\n",
    "from pycocotools.mask import toBbox\n",
    "import numpy as np\n",
    "from PIL import Image\n",
    "from detectron2.structures import BoxMode"
   ]
  },
  {
   "cell_type": "code",
   "execution_count": 2,
   "metadata": {},
   "outputs": [],
   "source": [
    "folder_images_path = '/home/mcv/datasets/KITTI-MOTS/training/image_02/'\n",
    "folder_label_path = '/home/mcv/datasets/KITTI-MOTS/instances/'"
   ]
  },
  {
   "cell_type": "code",
   "execution_count": 7,
   "metadata": {},
   "outputs": [
    {
     "data": {
      "application/vnd.jupyter.widget-view+json": {
       "model_id": "ab4b6adc57e74cd880a40bbaa68dfc74",
       "version_major": 2,
       "version_minor": 0
      },
      "text/plain": [
       "HBox(children=(IntProgress(value=1, bar_style='info', max=1), HTML(value='')))"
      ]
     },
     "metadata": {},
     "output_type": "display_data"
    },
    {
     "name": "stdout",
     "output_type": "stream",
     "text": [
      "--------------------------\n",
      "[[[0 0 0]\n",
      "  [0 0 0]\n",
      "  [0 0 0]\n",
      "  ...\n",
      "  [0 0 0]\n",
      "  [0 0 0]\n",
      "  [0 0 0]]\n",
      "\n",
      " [[0 0 0]\n",
      "  [0 0 0]\n",
      "  [0 0 0]\n",
      "  ...\n",
      "  [0 0 0]\n",
      "  [0 0 0]\n",
      "  [0 0 0]]\n",
      "\n",
      " [[0 0 0]\n",
      "  [0 0 0]\n",
      "  [0 0 0]\n",
      "  ...\n",
      "  [0 0 0]\n",
      "  [0 0 0]\n",
      "  [0 0 0]]\n",
      "\n",
      " ...\n",
      "\n",
      " [[0 0 0]\n",
      "  [0 0 0]\n",
      "  [0 0 0]\n",
      "  ...\n",
      "  [0 0 0]\n",
      "  [0 0 0]\n",
      "  [0 0 0]]\n",
      "\n",
      " [[0 0 0]\n",
      "  [0 0 0]\n",
      "  [0 0 0]\n",
      "  ...\n",
      "  [0 0 0]\n",
      "  [0 0 0]\n",
      "  [0 0 0]]\n",
      "\n",
      " [[0 0 0]\n",
      "  [0 0 0]\n",
      "  [0 0 0]\n",
      "  ...\n",
      "  [0 0 0]\n",
      "  [0 0 0]\n",
      "  [0 0 0]]]\n"
     ]
    },
    {
     "ename": "ValueError",
     "evalue": "not enough values to unpack (expected 2, got 1)",
     "output_type": "error",
     "traceback": [
      "\u001b[0;31m---------------------------------------------------------------------------\u001b[0m",
      "\u001b[0;31mValueError\u001b[0m                                Traceback (most recent call last)",
      "\u001b[0;32m<ipython-input-7-f5d382dde93f>\u001b[0m in \u001b[0;36m<module>\u001b[0;34m\u001b[0m\n\u001b[1;32m     10\u001b[0m         \u001b[0mprint\u001b[0m\u001b[0;34m(\u001b[0m\u001b[0mlabel\u001b[0m\u001b[0;34m)\u001b[0m\u001b[0;34m\u001b[0m\u001b[0;34m\u001b[0m\u001b[0m\n\u001b[1;32m     11\u001b[0m         \u001b[0;31m#label = np.asarray(Image.open(label_path))\u001b[0m\u001b[0;34m\u001b[0m\u001b[0;34m\u001b[0m\u001b[0;34m\u001b[0m\u001b[0m\n\u001b[0;32m---> 12\u001b[0;31m         \u001b[0mheight\u001b[0m\u001b[0;34m,\u001b[0m\u001b[0mwidth\u001b[0m \u001b[0;34m=\u001b[0m \u001b[0mlabel\u001b[0m\u001b[0;34m.\u001b[0m\u001b[0mshape\u001b[0m\u001b[0;34m[\u001b[0m\u001b[0;34m:\u001b[0m\u001b[0;34m-\u001b[0m\u001b[0;36m2\u001b[0m\u001b[0;34m]\u001b[0m\u001b[0;34m\u001b[0m\u001b[0;34m\u001b[0m\u001b[0m\n\u001b[0m\u001b[1;32m     13\u001b[0m \u001b[0;34m\u001b[0m\u001b[0m\n\u001b[1;32m     14\u001b[0m         \u001b[0mrecord\u001b[0m \u001b[0;34m=\u001b[0m \u001b[0;34m{\u001b[0m\u001b[0;34m}\u001b[0m\u001b[0;34m\u001b[0m\u001b[0;34m\u001b[0m\u001b[0m\n",
      "\u001b[0;31mValueError\u001b[0m: not enough values to unpack (expected 2, got 1)"
     ]
    }
   ],
   "source": [
    "for f, folder in tqdm(enumerate(listdir(folder_images_path))):\n",
    "    print(\"--------------------------\")\n",
    "    images_path = join(folder_images_path, folder)\n",
    "    onlyimages = [ima for ima in listdir(images_path) if isfile(join(images_path, ima))]\n",
    "    for i, image in enumerate(onlyimages):\n",
    "        image_path = folder_images_path + folder + \"/\" + image \n",
    "        label_path = folder_label_path + folder + \"/\" + image\n",
    "        \n",
    "        label = np.asarray(Image.open(label_path))\n",
    "        height,width = label.shape[:]\n",
    "\n",
    "        record = {}\n",
    "        record[\"file_name\"] = image_path\n",
    "        record[\"image_id\"] = f + i\n",
    "        record[\"height\"] = height\n",
    "        record[\"width\"] = width\n",
    "        patterns = list(np.unique(label))[1:-1]\n",
    "        objs = []\n",
    "        for pattern in patterns:\n",
    "            category_id = int(str(pattern)[0])-1 #Class ids in KITTI-MOTS: (car:1) (pedestrian:2)\n",
    "            mask_coord = np.argwhere(label==pattern)\n",
    "            x0, y0 = mask_coord.min(axis=0)    \n",
    "            x1, y1 = mask_coord.max(axis=0)\n",
    "            print(\"XYXY: \", x0,y0,x1,y1)\n",
    "            bbox = [y0, x0, y1, x1]\n",
    "            obj = {\n",
    "                \"bbox\": bbox,\n",
    "                \"bbox_mode\":BoxMode.XYXY_ABS,\n",
    "                \"category_id\": category_id,\n",
    "                \"iscrowd\": 0\n",
    "            }\n",
    "            objs.append(obj)\n",
    "        record[\"annotations\"] = objs\n",
    "        print(record)\n"
   ]
  },
  {
   "cell_type": "code",
   "execution_count": null,
   "metadata": {},
   "outputs": [],
   "source": [
    "image_path = '/home/mcv/datasets/KITTI-MOTS/training/image_02/0000/000000.png'\n",
    "label_path = '/home/mcv/datasets/KITTI-MOTS/instances/0000/000000.png'\n",
    "label = np.asarray(Image.open(label_path))\n",
    "height,width = label.shape[:]\n",
    "print(label.shape[:])\n",
    "record = {}\n",
    "record[\"file_name\"] = image_path\n",
    "record[\"image_id\"] = \n",
    "record[\"height\"] = height\n",
    "record[\"width\"] = width\n",
    "\n",
    "patterns = list(np.unique(label))[1:-1]\n",
    "objs = []\n",
    "for pattern in patterns:\n",
    "    coord = np.argwhere(label==pattern)\n",
    "    x0, y0 = coord.min(axis=0)    \n",
    "    x1, y1 = coord.max(axis=0)\n",
    "    print(x0,y0)\n",
    "    print(x1,y1)\n",
    "    bbox = [y0, x0, y1, x1]\n",
    "    obj = {\n",
    "        \"bbox\": bbox,\n",
    "        \"bbox_mode\":BoxMode.XYXY_ABS,\n",
    "        \"category_id\": int(np.floor(label[coord[0][0]][label[0][1]]/1e3)-1),\n",
    "        \"iscrowd\": 0\n",
    "    }\n",
    "objs.append(obj)\n",
    "record[\"annotations\"] = objs"
   ]
  },
  {
   "cell_type": "markdown",
   "metadata": {},
   "source": [
    "# TRYING COCOTOOLS"
   ]
  },
  {
   "cell_type": "code",
   "execution_count": null,
   "metadata": {},
   "outputs": [],
   "source": [
    "list(np.unique(label))"
   ]
  },
  {
   "cell_type": "code",
   "execution_count": null,
   "metadata": {},
   "outputs": [],
   "source": [
    "with open(txt_path) as t:\n",
    "    lines = t.readlines()\n",
    "    #print(lines)\n",
    "    bb = toBbox(lines)\n",
    "    '''lines = t.readlines()\n",
    "    for line in lines:\n",
    "        print(line)\n",
    "        print(\"--------------------------------------\")\n",
    "        if(line[-1]==\"\\n\"):\n",
    "            line_splitted = line[:-1].split(' ')\n",
    "        else:\n",
    "            line_splitted = line.split(' ')\n",
    "        print(line_splitted)\n",
    "        rleObjs = line_splitted[5]\n",
    "        print(rleObjs)\n",
    "        bb = toBbox(line_splitted)\n",
    "        break'''"
   ]
  }
 ],
 "metadata": {
  "kernelspec": {
   "display_name": "Python 3",
   "language": "python",
   "name": "python3"
  },
  "language_info": {
   "codemirror_mode": {
    "name": "ipython",
    "version": 3
   },
   "file_extension": ".py",
   "mimetype": "text/x-python",
   "name": "python",
   "nbconvert_exporter": "python",
   "pygments_lexer": "ipython3",
   "version": "3.7.4"
  }
 },
 "nbformat": 4,
 "nbformat_minor": 2
}
