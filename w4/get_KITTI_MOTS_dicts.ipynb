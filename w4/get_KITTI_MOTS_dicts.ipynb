{
 "cells": [
  {
   "cell_type": "code",
   "execution_count": 9,
   "metadata": {},
   "outputs": [],
   "source": [
    "import cv2\n",
    "import os\n",
    "from tqdm.auto import tqdm\n",
    "from pycocotools.mask import toBbox\n",
    "import numpy as np\n",
    "from PIL import Image\n",
    "from detectron2.structures import BoxMode\n",
    "from mots_tools_io import (\n",
    "    load_txt,\n",
    ")  # download and rename from https://github.com/VisualComputingInstitute/mots_tools/blob/master/mots_common/io.py"
   ]
  },
  {
   "cell_type": "code",
   "execution_count": 10,
   "metadata": {},
   "outputs": [],
   "source": [
    "folder_images_path = '/home/mcv/datasets/KITTI-MOTS/training/image_02/'\n",
    "folder_txt_path = '/home/mcv/datasets/KITTI-MOTS/instances_txt/'"
   ]
  },
  {
   "cell_type": "code",
   "execution_count": 11,
   "metadata": {},
   "outputs": [],
   "source": [
    "objs = load_txt(folder_txt_path+'0000.txt')"
   ]
  },
  {
   "cell_type": "code",
   "execution_count": 13,
   "metadata": {
    "scrolled": false
   },
   "outputs": [
    {
     "name": "stdout",
     "output_type": "stream",
     "text": [
      "[<mots_tools_io.SegmentedObject object at 0x7f3a40dd8390>, <mots_tools_io.SegmentedObject object at 0x7f3a41dba390>]\n"
     ]
    }
   ],
   "source": []
  },
  {
   "cell_type": "code",
   "execution_count": 17,
   "metadata": {},
   "outputs": [
    {
     "data": {
      "application/vnd.jupyter.widget-view+json": {
       "model_id": "e9b2b407e5774edaa82b6572c0c4aa69",
       "version_major": 2,
       "version_minor": 0
      },
      "text/plain": [
       "HBox(children=(IntProgress(value=1, bar_style='info', description='Getting kitti dicts', max=1, style=Progress…"
      ]
     },
     "metadata": {},
     "output_type": "display_data"
    },
    {
     "name": "stdout",
     "output_type": "stream",
     "text": [
      "/home/mcv/datasets/KITTI-MOTS/instances_txt/0004.txt\n"
     ]
    },
    {
     "data": {
      "application/vnd.jupyter.widget-view+json": {
       "model_id": "652d1394830f4cb79a27534da6406d8e",
       "version_major": 2,
       "version_minor": 0
      },
      "text/plain": [
       "HBox(children=(IntProgress(value=1, bar_style='info', max=1), HTML(value='')))"
      ]
     },
     "metadata": {},
     "output_type": "display_data"
    },
    {
     "name": "stdout",
     "output_type": "stream",
     "text": [
      "0004 000128.png\n",
      "{0: [<mots_tools_io.SegmentedObject object at 0x7f3a40d105d0>, <mots_tools_io.SegmentedObject object at 0x7f3a40d10c90>], 1: [<mots_tools_io.SegmentedObject object at 0x7f3a40d10690>, <mots_tools_io.SegmentedObject object at 0x7f3a40d10990>], 2: [<mots_tools_io.SegmentedObject object at 0x7f3a40d93f50>, <mots_tools_io.SegmentedObject object at 0x7f3a40d106d0>], 3: [<mots_tools_io.SegmentedObject object at 0x7f3a40d07450>, <mots_tools_io.SegmentedObject object at 0x7f3a40d07510>], 4: [<mots_tools_io.SegmentedObject object at 0x7f3a40d07310>, <mots_tools_io.SegmentedObject object at 0x7f3a40d070d0>], 5: [<mots_tools_io.SegmentedObject object at 0x7f3a40d07490>], 6: [<mots_tools_io.SegmentedObject object at 0x7f3a40d071d0>], 7: [<mots_tools_io.SegmentedObject object at 0x7f3a40d10e90>], 8: [<mots_tools_io.SegmentedObject object at 0x7f3a40d07210>], 9: [<mots_tools_io.SegmentedObject object at 0x7f3a40d074d0>], 10: [<mots_tools_io.SegmentedObject object at 0x7f3a40d07410>], 11: [<mots_tools_io.SegmentedObject object at 0x7f3a40d07390>], 12: [<mots_tools_io.SegmentedObject object at 0x7f3a40d07050>], 13: [<mots_tools_io.SegmentedObject object at 0x7f3a40d072d0>], 14: [<mots_tools_io.SegmentedObject object at 0x7f3a40d07150>], 15: [<mots_tools_io.SegmentedObject object at 0x7f3a40d10fd0>], 16: [<mots_tools_io.SegmentedObject object at 0x7f3a40d07590>], 17: [<mots_tools_io.SegmentedObject object at 0x7f3a40d10d90>], 18: [<mots_tools_io.SegmentedObject object at 0x7f3a40d07690>], 19: [<mots_tools_io.SegmentedObject object at 0x7f3a40d07550>], 20: [<mots_tools_io.SegmentedObject object at 0x7f3a40d075d0>], 21: [<mots_tools_io.SegmentedObject object at 0x7f3a40d073d0>], 22: [<mots_tools_io.SegmentedObject object at 0x7f3a40d07350>], 23: [<mots_tools_io.SegmentedObject object at 0x7f3a40d07610>], 24: [<mots_tools_io.SegmentedObject object at 0x7f3a40d07650>], 25: [<mots_tools_io.SegmentedObject object at 0x7f3a40d07290>], 26: [<mots_tools_io.SegmentedObject object at 0x7f3a40d076d0>], 27: [<mots_tools_io.SegmentedObject object at 0x7f3a40d07710>], 28: [<mots_tools_io.SegmentedObject object at 0x7f3a40d07250>], 29: [<mots_tools_io.SegmentedObject object at 0x7f3a40d07750>], 30: [<mots_tools_io.SegmentedObject object at 0x7f3a40d07790>], 31: [<mots_tools_io.SegmentedObject object at 0x7f3a40d077d0>], 32: [<mots_tools_io.SegmentedObject object at 0x7f3a40de6090>], 33: [<mots_tools_io.SegmentedObject object at 0x7f3a40de65d0>], 34: [<mots_tools_io.SegmentedObject object at 0x7f3a40de6690>], 35: [<mots_tools_io.SegmentedObject object at 0x7f3a40de6350>], 36: [<mots_tools_io.SegmentedObject object at 0x7f3a40de6510>], 37: [<mots_tools_io.SegmentedObject object at 0x7f3a40de61d0>], 38: [<mots_tools_io.SegmentedObject object at 0x7f3a40de64d0>], 39: [<mots_tools_io.SegmentedObject object at 0x7f3a40de6250>], 40: [<mots_tools_io.SegmentedObject object at 0x7f3a40de6450>], 41: [<mots_tools_io.SegmentedObject object at 0x7f3a40de60d0>], 42: [<mots_tools_io.SegmentedObject object at 0x7f3a40de6290>], 43: [<mots_tools_io.SegmentedObject object at 0x7f3a40de6610>], 44: [<mots_tools_io.SegmentedObject object at 0x7f3a40da8c10>], 45: [<mots_tools_io.SegmentedObject object at 0x7f3a40d07810>], 46: [<mots_tools_io.SegmentedObject object at 0x7f3a40d07890>], 47: [<mots_tools_io.SegmentedObject object at 0x7f3a40d07910>], 48: [<mots_tools_io.SegmentedObject object at 0x7f3a40d07990>], 49: [<mots_tools_io.SegmentedObject object at 0x7f3a40d07a10>], 50: [<mots_tools_io.SegmentedObject object at 0x7f3a40d07850>], 51: [<mots_tools_io.SegmentedObject object at 0x7f3a40d078d0>], 52: [<mots_tools_io.SegmentedObject object at 0x7f3a40d07950>], 53: [<mots_tools_io.SegmentedObject object at 0x7f3a40d079d0>], 54: [<mots_tools_io.SegmentedObject object at 0x7f3a40d07a50>], 55: [<mots_tools_io.SegmentedObject object at 0x7f3a40d07a90>], 56: [<mots_tools_io.SegmentedObject object at 0x7f3a40d07ad0>], 57: [<mots_tools_io.SegmentedObject object at 0x7f3a40d07b10>], 58: [<mots_tools_io.SegmentedObject object at 0x7f3a40d07190>], 59: [<mots_tools_io.SegmentedObject object at 0x7f3a40d07090>], 60: [<mots_tools_io.SegmentedObject object at 0x7f3a40d07b50>], 61: [<mots_tools_io.SegmentedObject object at 0x7f3a40d07b90>], 62: [<mots_tools_io.SegmentedObject object at 0x7f3a40d07bd0>], 63: [<mots_tools_io.SegmentedObject object at 0x7f3a40d07c10>], 64: [<mots_tools_io.SegmentedObject object at 0x7f3a40d07c50>], 65: [<mots_tools_io.SegmentedObject object at 0x7f3a40d07c90>], 66: [<mots_tools_io.SegmentedObject object at 0x7f3a40d07cd0>], 67: [<mots_tools_io.SegmentedObject object at 0x7f3a40d07d10>], 68: [<mots_tools_io.SegmentedObject object at 0x7f3a40d07d50>], 69: [<mots_tools_io.SegmentedObject object at 0x7f3a40d07d90>], 70: [<mots_tools_io.SegmentedObject object at 0x7f3a40d07dd0>], 71: [<mots_tools_io.SegmentedObject object at 0x7f3a40d07e10>], 72: [<mots_tools_io.SegmentedObject object at 0x7f3a40d07e50>], 73: [<mots_tools_io.SegmentedObject object at 0x7f3a40d07e90>], 74: [<mots_tools_io.SegmentedObject object at 0x7f3a40d07ed0>], 75: [<mots_tools_io.SegmentedObject object at 0x7f3a40d07f10>], 76: [<mots_tools_io.SegmentedObject object at 0x7f3a40d07f50>], 77: [<mots_tools_io.SegmentedObject object at 0x7f3a40d07f90>], 78: [<mots_tools_io.SegmentedObject object at 0x7f3a40d07fd0>], 79: [<mots_tools_io.SegmentedObject object at 0x7f3a40d1f050>], 80: [<mots_tools_io.SegmentedObject object at 0x7f3a40d1f090>], 81: [<mots_tools_io.SegmentedObject object at 0x7f3a40d1f0d0>], 82: [<mots_tools_io.SegmentedObject object at 0x7f3a40d1f110>], 83: [<mots_tools_io.SegmentedObject object at 0x7f3a40d1f150>], 84: [<mots_tools_io.SegmentedObject object at 0x7f3a40d1f190>], 85: [<mots_tools_io.SegmentedObject object at 0x7f3a40d1f1d0>], 86: [<mots_tools_io.SegmentedObject object at 0x7f3a4165b550>], 87: [<mots_tools_io.SegmentedObject object at 0x7f3a40d1f250>], 88: [<mots_tools_io.SegmentedObject object at 0x7f3a40d1f210>], 89: [<mots_tools_io.SegmentedObject object at 0x7f3a40d1f2d0>], 90: [<mots_tools_io.SegmentedObject object at 0x7f3a40d1f290>], 91: [<mots_tools_io.SegmentedObject object at 0x7f3a40d1f350>], 92: [<mots_tools_io.SegmentedObject object at 0x7f3a40d1f310>], 93: [<mots_tools_io.SegmentedObject object at 0x7f3a40d1f3d0>], 94: [<mots_tools_io.SegmentedObject object at 0x7f3a40d10a90>], 95: [<mots_tools_io.SegmentedObject object at 0x7f3a40d1f410>], 96: [<mots_tools_io.SegmentedObject object at 0x7f3a40d10e10>], 97: [<mots_tools_io.SegmentedObject object at 0x7f3a40d1f490>], 98: [<mots_tools_io.SegmentedObject object at 0x7f3a40d1f390>], 99: [<mots_tools_io.SegmentedObject object at 0x7f3a40d1f510>], 100: [<mots_tools_io.SegmentedObject object at 0x7f3a40d1f450>], 101: [<mots_tools_io.SegmentedObject object at 0x7f3a40d1f590>], 102: [<mots_tools_io.SegmentedObject object at 0x7f3a40d1f4d0>], 103: [<mots_tools_io.SegmentedObject object at 0x7f3a40d1f550>], 104: [<mots_tools_io.SegmentedObject object at 0x7f3a40d1f5d0>], 105: [<mots_tools_io.SegmentedObject object at 0x7f3a40d1f610>], 106: [<mots_tools_io.SegmentedObject object at 0x7f3a40d10dd0>], 107: [<mots_tools_io.SegmentedObject object at 0x7f3a40d1f690>], 108: [<mots_tools_io.SegmentedObject object at 0x7f3a40d1f650>], 109: [<mots_tools_io.SegmentedObject object at 0x7f3a40d1f710>, <mots_tools_io.SegmentedObject object at 0x7f3a40d1f6d0>], 110: [<mots_tools_io.SegmentedObject object at 0x7f3a40d1f790>, <mots_tools_io.SegmentedObject object at 0x7f3a40d1f750>], 111: [<mots_tools_io.SegmentedObject object at 0x7f3a40d1f810>, <mots_tools_io.SegmentedObject object at 0x7f3a40d1f7d0>], 112: [<mots_tools_io.SegmentedObject object at 0x7f3a40d10ed0>, <mots_tools_io.SegmentedObject object at 0x7f3a40d1f890>], 113: [<mots_tools_io.SegmentedObject object at 0x7f3a40d10f90>, <mots_tools_io.SegmentedObject object at 0x7f3a40d1f950>, <mots_tools_io.SegmentedObject object at 0x7f3a40d1f850>], 114: [<mots_tools_io.SegmentedObject object at 0x7f3a40d1f9d0>, <mots_tools_io.SegmentedObject object at 0x7f3a40d1f8d0>, <mots_tools_io.SegmentedObject object at 0x7f3a40d1f990>], 115: [<mots_tools_io.SegmentedObject object at 0x7f3a40d1f910>, <mots_tools_io.SegmentedObject object at 0x7f3a40d1fa50>, <mots_tools_io.SegmentedObject object at 0x7f3a40d1fa10>], 116: [<mots_tools_io.SegmentedObject object at 0x7f3a40d1fa90>, <mots_tools_io.SegmentedObject object at 0x7f3a40d1fb10>, <mots_tools_io.SegmentedObject object at 0x7f3a40d1fad0>], 117: [<mots_tools_io.SegmentedObject object at 0x7f3a40d1fb50>, <mots_tools_io.SegmentedObject object at 0x7f3a40d1fbd0>, <mots_tools_io.SegmentedObject object at 0x7f3a40d1fb90>, <mots_tools_io.SegmentedObject object at 0x7f3a40d1fc10>], 118: [<mots_tools_io.SegmentedObject object at 0x7f3a40d1fc90>, <mots_tools_io.SegmentedObject object at 0x7f3a40d1fc50>, <mots_tools_io.SegmentedObject object at 0x7f3a40d1fcd0>, <mots_tools_io.SegmentedObject object at 0x7f3a40d1fd50>], 119: [<mots_tools_io.SegmentedObject object at 0x7f3a40d1fd10>, <mots_tools_io.SegmentedObject object at 0x7f3a40d1fd90>, <mots_tools_io.SegmentedObject object at 0x7f3a40d1fdd0>, <mots_tools_io.SegmentedObject object at 0x7f3a40d1fe50>], 120: [<mots_tools_io.SegmentedObject object at 0x7f3a40d1fe10>, <mots_tools_io.SegmentedObject object at 0x7f3a40d1fe90>, <mots_tools_io.SegmentedObject object at 0x7f3a40d1fed0>, <mots_tools_io.SegmentedObject object at 0x7f3a40d1ff50>, <mots_tools_io.SegmentedObject object at 0x7f3a40d1ff10>], 121: [<mots_tools_io.SegmentedObject object at 0x7f3a40d109d0>, <mots_tools_io.SegmentedObject object at 0x7f3a40d02050>, <mots_tools_io.SegmentedObject object at 0x7f3a40d1ff90>, <mots_tools_io.SegmentedObject object at 0x7f3a40d02110>, <mots_tools_io.SegmentedObject object at 0x7f3a40d02090>], 122: [<mots_tools_io.SegmentedObject object at 0x7f3a40d02190>, <mots_tools_io.SegmentedObject object at 0x7f3a40d02150>, <mots_tools_io.SegmentedObject object at 0x7f3a40d021d0>, <mots_tools_io.SegmentedObject object at 0x7f3a40d02250>, <mots_tools_io.SegmentedObject object at 0x7f3a40d02210>], 123: [<mots_tools_io.SegmentedObject object at 0x7f3a40d02310>, <mots_tools_io.SegmentedObject object at 0x7f3a40d022d0>, <mots_tools_io.SegmentedObject object at 0x7f3a40d02350>, <mots_tools_io.SegmentedObject object at 0x7f3a40d023d0>, <mots_tools_io.SegmentedObject object at 0x7f3a40d02390>], 124: [<mots_tools_io.SegmentedObject object at 0x7f3a40d02490>, <mots_tools_io.SegmentedObject object at 0x7f3a40d02450>, <mots_tools_io.SegmentedObject object at 0x7f3a40d024d0>, <mots_tools_io.SegmentedObject object at 0x7f3a40d02550>, <mots_tools_io.SegmentedObject object at 0x7f3a40d02510>, <mots_tools_io.SegmentedObject object at 0x7f3a40d02610>], 125: [<mots_tools_io.SegmentedObject object at 0x7f3a40d025d0>, <mots_tools_io.SegmentedObject object at 0x7f3a40d02650>, <mots_tools_io.SegmentedObject object at 0x7f3a40d026d0>, <mots_tools_io.SegmentedObject object at 0x7f3a40d02690>, <mots_tools_io.SegmentedObject object at 0x7f3a40d02750>, <mots_tools_io.SegmentedObject object at 0x7f3a40d02710>], 126: [<mots_tools_io.SegmentedObject object at 0x7f3a40d027d0>, <mots_tools_io.SegmentedObject object at 0x7f3a40d02810>, <mots_tools_io.SegmentedObject object at 0x7f3a40d02890>, <mots_tools_io.SegmentedObject object at 0x7f3a40d02850>, <mots_tools_io.SegmentedObject object at 0x7f3a40d02910>, <mots_tools_io.SegmentedObject object at 0x7f3a40d028d0>, <mots_tools_io.SegmentedObject object at 0x7f3a40d02990>], 127: [<mots_tools_io.SegmentedObject object at 0x7f3a40d029d0>, <mots_tools_io.SegmentedObject object at 0x7f3a40d02a50>, <mots_tools_io.SegmentedObject object at 0x7f3a40d02a10>, <mots_tools_io.SegmentedObject object at 0x7f3a40d02ad0>, <mots_tools_io.SegmentedObject object at 0x7f3a40d02a90>, <mots_tools_io.SegmentedObject object at 0x7f3a40d02b10>, <mots_tools_io.SegmentedObject object at 0x7f3a40d02b90>], 128: [<mots_tools_io.SegmentedObject object at 0x7f3a40d02bd0>, <mots_tools_io.SegmentedObject object at 0x7f3a40d02c50>, <mots_tools_io.SegmentedObject object at 0x7f3a40d02c10>, <mots_tools_io.SegmentedObject object at 0x7f3a40d02cd0>, <mots_tools_io.SegmentedObject object at 0x7f3a40d02c90>, <mots_tools_io.SegmentedObject object at 0x7f3a40d02d10>, <mots_tools_io.SegmentedObject object at 0x7f3a40d02d90>], 129: [<mots_tools_io.SegmentedObject object at 0x7f3a40d02dd0>, <mots_tools_io.SegmentedObject object at 0x7f3a40d02e50>, <mots_tools_io.SegmentedObject object at 0x7f3a40d02e10>, <mots_tools_io.SegmentedObject object at 0x7f3a40d02ed0>, <mots_tools_io.SegmentedObject object at 0x7f3a40d02e90>, <mots_tools_io.SegmentedObject object at 0x7f3a40d02f10>, <mots_tools_io.SegmentedObject object at 0x7f3a40d02f90>], 130: [<mots_tools_io.SegmentedObject object at 0x7f3a40d02fd0>, <mots_tools_io.SegmentedObject object at 0x7f3a40d6d090>, <mots_tools_io.SegmentedObject object at 0x7f3a40d6d050>, <mots_tools_io.SegmentedObject object at 0x7f3a40d6d110>, <mots_tools_io.SegmentedObject object at 0x7f3a40d6d0d0>, <mots_tools_io.SegmentedObject object at 0x7f3a40d6d150>, <mots_tools_io.SegmentedObject object at 0x7f3a40d6d1d0>, <mots_tools_io.SegmentedObject object at 0x7f3a40d6d210>], 131: [<mots_tools_io.SegmentedObject object at 0x7f3a40d6d290>, <mots_tools_io.SegmentedObject object at 0x7f3a40d6d250>, <mots_tools_io.SegmentedObject object at 0x7f3a40d6d310>, <mots_tools_io.SegmentedObject object at 0x7f3a40d6d2d0>, <mots_tools_io.SegmentedObject object at 0x7f3a40d6d350>, <mots_tools_io.SegmentedObject object at 0x7f3a40d6d390>, <mots_tools_io.SegmentedObject object at 0x7f3a40d6d410>, <mots_tools_io.SegmentedObject object at 0x7f3a40d6d450>], 132: [<mots_tools_io.SegmentedObject object at 0x7f3a40d6d4d0>, <mots_tools_io.SegmentedObject object at 0x7f3a40d6d490>, <mots_tools_io.SegmentedObject object at 0x7f3a40d6d550>, <mots_tools_io.SegmentedObject object at 0x7f3a40d6d510>, <mots_tools_io.SegmentedObject object at 0x7f3a40d6d590>, <mots_tools_io.SegmentedObject object at 0x7f3a40d6d5d0>, <mots_tools_io.SegmentedObject object at 0x7f3a40d6d650>, <mots_tools_io.SegmentedObject object at 0x7f3a40d6d690>], 133: [<mots_tools_io.SegmentedObject object at 0x7f3a40d6d710>, <mots_tools_io.SegmentedObject object at 0x7f3a40d6d6d0>, <mots_tools_io.SegmentedObject object at 0x7f3a40d6d790>, <mots_tools_io.SegmentedObject object at 0x7f3a40d6d750>, <mots_tools_io.SegmentedObject object at 0x7f3a40d6d7d0>, <mots_tools_io.SegmentedObject object at 0x7f3a40d6d810>, <mots_tools_io.SegmentedObject object at 0x7f3a40d6d890>, <mots_tools_io.SegmentedObject object at 0x7f3a40d6d8d0>], 134: [<mots_tools_io.SegmentedObject object at 0x7f3a40d6d950>, <mots_tools_io.SegmentedObject object at 0x7f3a40d6d910>, <mots_tools_io.SegmentedObject object at 0x7f3a40d6d9d0>, <mots_tools_io.SegmentedObject object at 0x7f3a40d6d990>, <mots_tools_io.SegmentedObject object at 0x7f3a40d6da10>, <mots_tools_io.SegmentedObject object at 0x7f3a40d6da50>, <mots_tools_io.SegmentedObject object at 0x7f3a40d6dad0>, <mots_tools_io.SegmentedObject object at 0x7f3a40d6db10>], 135: [<mots_tools_io.SegmentedObject object at 0x7f3a40d6db90>, <mots_tools_io.SegmentedObject object at 0x7f3a40d6db50>, <mots_tools_io.SegmentedObject object at 0x7f3a40d6dc10>, <mots_tools_io.SegmentedObject object at 0x7f3a40d6dbd0>, <mots_tools_io.SegmentedObject object at 0x7f3a40d6dc50>, <mots_tools_io.SegmentedObject object at 0x7f3a40d6dc90>, <mots_tools_io.SegmentedObject object at 0x7f3a40d6dd10>, <mots_tools_io.SegmentedObject object at 0x7f3a40d6dd50>], 136: [<mots_tools_io.SegmentedObject object at 0x7f3a40d6ddd0>, <mots_tools_io.SegmentedObject object at 0x7f3a40d6dd90>, <mots_tools_io.SegmentedObject object at 0x7f3a40d6de50>, <mots_tools_io.SegmentedObject object at 0x7f3a40d6de10>, <mots_tools_io.SegmentedObject object at 0x7f3a40d6de90>, <mots_tools_io.SegmentedObject object at 0x7f3a40d6ded0>, <mots_tools_io.SegmentedObject object at 0x7f3a40d6df50>, <mots_tools_io.SegmentedObject object at 0x7f3a40d6df90>], 137: [<mots_tools_io.SegmentedObject object at 0x7f3a40d53050>, <mots_tools_io.SegmentedObject object at 0x7f3a40d6dfd0>, <mots_tools_io.SegmentedObject object at 0x7f3a40d530d0>, <mots_tools_io.SegmentedObject object at 0x7f3a40d53090>, <mots_tools_io.SegmentedObject object at 0x7f3a40d53110>, <mots_tools_io.SegmentedObject object at 0x7f3a40d53150>, <mots_tools_io.SegmentedObject object at 0x7f3a40d53290>, <mots_tools_io.SegmentedObject object at 0x7f3a40d53210>], 138: [<mots_tools_io.SegmentedObject object at 0x7f3a40d53310>, <mots_tools_io.SegmentedObject object at 0x7f3a40d53250>, <mots_tools_io.SegmentedObject object at 0x7f3a40d53350>, <mots_tools_io.SegmentedObject object at 0x7f3a40d532d0>, <mots_tools_io.SegmentedObject object at 0x7f3a40d533d0>, <mots_tools_io.SegmentedObject object at 0x7f3a40d53390>, <mots_tools_io.SegmentedObject object at 0x7f3a40d53450>, <mots_tools_io.SegmentedObject object at 0x7f3a40d53490>, <mots_tools_io.SegmentedObject object at 0x7f3a40d53510>, <mots_tools_io.SegmentedObject object at 0x7f3a40d534d0>], 139: [<mots_tools_io.SegmentedObject object at 0x7f3a40d53410>, <mots_tools_io.SegmentedObject object at 0x7f3a40d53550>, <mots_tools_io.SegmentedObject object at 0x7f3a40d53590>, <mots_tools_io.SegmentedObject object at 0x7f3a40d53610>, <mots_tools_io.SegmentedObject object at 0x7f3a40d535d0>, <mots_tools_io.SegmentedObject object at 0x7f3a40d53690>, <mots_tools_io.SegmentedObject object at 0x7f3a40d536d0>, <mots_tools_io.SegmentedObject object at 0x7f3a40d53710>, <mots_tools_io.SegmentedObject object at 0x7f3a40d53790>, <mots_tools_io.SegmentedObject object at 0x7f3a40d53750>], 140: [<mots_tools_io.SegmentedObject object at 0x7f3a40d53650>, <mots_tools_io.SegmentedObject object at 0x7f3a40d537d0>, <mots_tools_io.SegmentedObject object at 0x7f3a40d53810>, <mots_tools_io.SegmentedObject object at 0x7f3a40d53890>, <mots_tools_io.SegmentedObject object at 0x7f3a40d53850>, <mots_tools_io.SegmentedObject object at 0x7f3a40d53910>, <mots_tools_io.SegmentedObject object at 0x7f3a40d53950>, <mots_tools_io.SegmentedObject object at 0x7f3a40d53990>, <mots_tools_io.SegmentedObject object at 0x7f3a40d53a10>, <mots_tools_io.SegmentedObject object at 0x7f3a40d539d0>], 141: [<mots_tools_io.SegmentedObject object at 0x7f3a40d538d0>, <mots_tools_io.SegmentedObject object at 0x7f3a40d53a50>, <mots_tools_io.SegmentedObject object at 0x7f3a40d53a90>, <mots_tools_io.SegmentedObject object at 0x7f3a40d53b10>, <mots_tools_io.SegmentedObject object at 0x7f3a40d53ad0>, <mots_tools_io.SegmentedObject object at 0x7f3a40d53b90>, <mots_tools_io.SegmentedObject object at 0x7f3a40d53bd0>, <mots_tools_io.SegmentedObject object at 0x7f3a40d53c10>, <mots_tools_io.SegmentedObject object at 0x7f3a40d53c90>, <mots_tools_io.SegmentedObject object at 0x7f3a40d53c50>], 142: [<mots_tools_io.SegmentedObject object at 0x7f3a40d53b50>, <mots_tools_io.SegmentedObject object at 0x7f3a40d53cd0>, <mots_tools_io.SegmentedObject object at 0x7f3a40d53d10>, <mots_tools_io.SegmentedObject object at 0x7f3a40d53d90>, <mots_tools_io.SegmentedObject object at 0x7f3a40d53d50>, <mots_tools_io.SegmentedObject object at 0x7f3a40d53e10>, <mots_tools_io.SegmentedObject object at 0x7f3a40d53e50>, <mots_tools_io.SegmentedObject object at 0x7f3a40d53e90>, <mots_tools_io.SegmentedObject object at 0x7f3a40d53f10>, <mots_tools_io.SegmentedObject object at 0x7f3a40d53ed0>], 143: [<mots_tools_io.SegmentedObject object at 0x7f3a40d53dd0>, <mots_tools_io.SegmentedObject object at 0x7f3a40d53f50>, <mots_tools_io.SegmentedObject object at 0x7f3a40d53f90>, <mots_tools_io.SegmentedObject object at 0x7f3a40cca050>, <mots_tools_io.SegmentedObject object at 0x7f3a40d53fd0>, <mots_tools_io.SegmentedObject object at 0x7f3a40cca0d0>, <mots_tools_io.SegmentedObject object at 0x7f3a40cca110>, <mots_tools_io.SegmentedObject object at 0x7f3a40cca150>, <mots_tools_io.SegmentedObject object at 0x7f3a40cca1d0>, <mots_tools_io.SegmentedObject object at 0x7f3a40cca190>], 144: [<mots_tools_io.SegmentedObject object at 0x7f3a40cca090>, <mots_tools_io.SegmentedObject object at 0x7f3a40cca210>, <mots_tools_io.SegmentedObject object at 0x7f3a40cca250>, <mots_tools_io.SegmentedObject object at 0x7f3a40cca2d0>, <mots_tools_io.SegmentedObject object at 0x7f3a40cca290>, <mots_tools_io.SegmentedObject object at 0x7f3a40cca350>, <mots_tools_io.SegmentedObject object at 0x7f3a40cca390>, <mots_tools_io.SegmentedObject object at 0x7f3a40cca3d0>, <mots_tools_io.SegmentedObject object at 0x7f3a40cca450>], 145: [<mots_tools_io.SegmentedObject object at 0x7f3a40cca410>, <mots_tools_io.SegmentedObject object at 0x7f3a40cca310>, <mots_tools_io.SegmentedObject object at 0x7f3a40cca490>, <mots_tools_io.SegmentedObject object at 0x7f3a40cca4d0>, <mots_tools_io.SegmentedObject object at 0x7f3a40cca550>, <mots_tools_io.SegmentedObject object at 0x7f3a40cca510>, <mots_tools_io.SegmentedObject object at 0x7f3a40cca610>, <mots_tools_io.SegmentedObject object at 0x7f3a40cca590>, <mots_tools_io.SegmentedObject object at 0x7f3a40cca690>], 146: [<mots_tools_io.SegmentedObject object at 0x7f3a40cca650>, <mots_tools_io.SegmentedObject object at 0x7f3a40cca5d0>, <mots_tools_io.SegmentedObject object at 0x7f3a40cca6d0>, <mots_tools_io.SegmentedObject object at 0x7f3a40cca710>, <mots_tools_io.SegmentedObject object at 0x7f3a40cca790>, <mots_tools_io.SegmentedObject object at 0x7f3a40cca750>, <mots_tools_io.SegmentedObject object at 0x7f3a40cca850>, <mots_tools_io.SegmentedObject object at 0x7f3a40cca7d0>, <mots_tools_io.SegmentedObject object at 0x7f3a40cca8d0>], 147: [<mots_tools_io.SegmentedObject object at 0x7f3a40cca890>, <mots_tools_io.SegmentedObject object at 0x7f3a40cca810>, <mots_tools_io.SegmentedObject object at 0x7f3a40cca910>, <mots_tools_io.SegmentedObject object at 0x7f3a40cca950>, <mots_tools_io.SegmentedObject object at 0x7f3a40cca9d0>, <mots_tools_io.SegmentedObject object at 0x7f3a40cca990>, <mots_tools_io.SegmentedObject object at 0x7f3a40ccaa90>, <mots_tools_io.SegmentedObject object at 0x7f3a40ccaa10>, <mots_tools_io.SegmentedObject object at 0x7f3a40ccab10>], 148: [<mots_tools_io.SegmentedObject object at 0x7f3a40ccaad0>, <mots_tools_io.SegmentedObject object at 0x7f3a40ccaa50>, <mots_tools_io.SegmentedObject object at 0x7f3a40ccab50>, <mots_tools_io.SegmentedObject object at 0x7f3a40ccab90>, <mots_tools_io.SegmentedObject object at 0x7f3a40ccac10>, <mots_tools_io.SegmentedObject object at 0x7f3a40ccabd0>, <mots_tools_io.SegmentedObject object at 0x7f3a40ccacd0>, <mots_tools_io.SegmentedObject object at 0x7f3a40ccac50>, <mots_tools_io.SegmentedObject object at 0x7f3a40ccad50>], 149: [<mots_tools_io.SegmentedObject object at 0x7f3a40ccad10>, <mots_tools_io.SegmentedObject object at 0x7f3a40ccac90>, <mots_tools_io.SegmentedObject object at 0x7f3a40ccad90>, <mots_tools_io.SegmentedObject object at 0x7f3a40ccadd0>, <mots_tools_io.SegmentedObject object at 0x7f3a40ccae50>, <mots_tools_io.SegmentedObject object at 0x7f3a40ccae10>, <mots_tools_io.SegmentedObject object at 0x7f3a40ccaf10>, <mots_tools_io.SegmentedObject object at 0x7f3a40ccae90>, <mots_tools_io.SegmentedObject object at 0x7f3a40ccaf90>], 150: [<mots_tools_io.SegmentedObject object at 0x7f3a40ccaf50>, <mots_tools_io.SegmentedObject object at 0x7f3a40ccaed0>, <mots_tools_io.SegmentedObject object at 0x7f3a40ccafd0>, <mots_tools_io.SegmentedObject object at 0x7f3a40cd5050>, <mots_tools_io.SegmentedObject object at 0x7f3a40cd50d0>, <mots_tools_io.SegmentedObject object at 0x7f3a40cd5090>, <mots_tools_io.SegmentedObject object at 0x7f3a40cd5190>, <mots_tools_io.SegmentedObject object at 0x7f3a40cd5110>, <mots_tools_io.SegmentedObject object at 0x7f3a40cd5210>], 151: [<mots_tools_io.SegmentedObject object at 0x7f3a40cd51d0>, <mots_tools_io.SegmentedObject object at 0x7f3a40cd5150>, <mots_tools_io.SegmentedObject object at 0x7f3a40cd5250>, <mots_tools_io.SegmentedObject object at 0x7f3a40cd5290>, <mots_tools_io.SegmentedObject object at 0x7f3a40cd5310>, <mots_tools_io.SegmentedObject object at 0x7f3a40cd52d0>, <mots_tools_io.SegmentedObject object at 0x7f3a40cd53d0>, <mots_tools_io.SegmentedObject object at 0x7f3a40cd5350>, <mots_tools_io.SegmentedObject object at 0x7f3a40cd5450>], 152: [<mots_tools_io.SegmentedObject object at 0x7f3a40cd5410>, <mots_tools_io.SegmentedObject object at 0x7f3a40cd5390>, <mots_tools_io.SegmentedObject object at 0x7f3a40cd5490>, <mots_tools_io.SegmentedObject object at 0x7f3a40cd54d0>, <mots_tools_io.SegmentedObject object at 0x7f3a40cd5550>, <mots_tools_io.SegmentedObject object at 0x7f3a40cd5510>, <mots_tools_io.SegmentedObject object at 0x7f3a40cd5610>, <mots_tools_io.SegmentedObject object at 0x7f3a40cd5590>], 153: [<mots_tools_io.SegmentedObject object at 0x7f3a40cd5690>, <mots_tools_io.SegmentedObject object at 0x7f3a40cd5650>, <mots_tools_io.SegmentedObject object at 0x7f3a40cd5710>, <mots_tools_io.SegmentedObject object at 0x7f3a40cd56d0>, <mots_tools_io.SegmentedObject object at 0x7f3a40cd5750>, <mots_tools_io.SegmentedObject object at 0x7f3a40cd5790>, <mots_tools_io.SegmentedObject object at 0x7f3a40cd5810>, <mots_tools_io.SegmentedObject object at 0x7f3a40cd5850>]}\n",
      "154\n"
     ]
    }
   ],
   "source": [
    "for i, folder_name in tqdm(enumerate(os.listdir(folder_images_path)),desc='Getting kitti dicts'):\n",
    "    txt_file = folder_txt_path + folder_name + '.txt'\n",
    "    print(txt_file)\n",
    "    for j, img_name in tqdm(enumerate(os.listdir(os.path.join(folder_images_path,folder_name)))):\n",
    "        print(folder_name, img_name)\n",
    "        objs = load_txt(folder_txt_path+'0000.txt')\n",
    "        print(objs)\n",
    "        break\n",
    "    break"
   ]
  },
  {
   "cell_type": "code",
   "execution_count": null,
   "metadata": {},
   "outputs": [],
   "source": [
    "dataset_dicts = []\n",
    "for idx, v in enumerate(imgs_anns.values()):\n",
    "    record = {}\n",
    "\n",
    "    filename = os.path.join(img_dir, v[\"filename\"])\n",
    "    height, width = cv2.imread(filename).shape[:2]\n",
    "\n",
    "    record[\"file_name\"] = filename\n",
    "    record[\"image_id\"] = idx\n",
    "    record[\"height\"] = height\n",
    "    record[\"width\"] = width\n",
    "\n",
    "    annos = v[\"regions\"]\n",
    "    objs = []\n",
    "    for _, anno in annos.items():\n",
    "        assert not anno[\"region_attributes\"]\n",
    "        anno = anno[\"shape_attributes\"]\n",
    "        px = anno[\"all_points_x\"]\n",
    "        py = anno[\"all_points_y\"]\n",
    "        poly = [(x + 0.5, y + 0.5) for x, y in zip(px, py)]\n",
    "        poly = [p for x in poly for p in x]\n",
    "\n",
    "        obj = {\n",
    "            \"bbox\": [np.min(px), np.min(py), np.max(px), np.max(py)],\n",
    "            \"bbox_mode\": BoxMode.XYXY_ABS,\n",
    "            \"segmentation\": [poly],\n",
    "            \"category_id\": 0,\n",
    "            \"iscrowd\": 0\n",
    "        }\n",
    "        objs.append(obj)\n",
    "    record[\"annotations\"] = objs\n",
    "    dataset_dicts.append(record)"
   ]
  },
  {
   "cell_type": "code",
   "execution_count": null,
   "metadata": {},
   "outputs": [],
   "source": [
    "def to_XYXY(bbox):\n",
    "    bbox[2] += bbox[0]\n",
    "    bbox[3] += bbox[1]\n",
    "    return bbox\n",
    "\n",
    "objs = load_txt(lbl_path)\n",
    "for img_path in img_dir.iterdir():\n",
    "    if img_path.suffix not in [\".jpg\", \".png\"]:\n",
    "        continue\n",
    "    idx = int(img_path.stem)\n",
    "    if idx not in objs or len(objs[idx]) == 0:\n",
    "        continue\n",
    "\n",
    "    record = {\n",
    "        \"file_name\": str(img_path),\n",
    "        \"image_id\": idx,\n",
    "        \"height\": objs[idx][0].mask[\"size\"][0],\n",
    "        \"width\": objs[idx][0].mask[\"size\"][1],\n",
    "        \"annotations\": [\n",
    "            {\n",
    "                \"bbox\": to_XYXY(toBbox(obj.mask)).tolist(),\n",
    "                \"bbox_mode\": BoxMode.XYXY_ABS,\n",
    "                \"category_id\": 2 if obj.class_id == 1 else 0,\n",
    "                \"iscrowd\": 0,\n",
    "            }\n",
    "            for obj in objs[idx]\n",
    "            if obj.class_id != 10\n",
    "        ],\n",
    "    }"
   ]
  },
  {
   "cell_type": "code",
   "execution_count": 7,
   "metadata": {},
   "outputs": [
    {
     "data": {
      "application/vnd.jupyter.widget-view+json": {
       "model_id": "ab4b6adc57e74cd880a40bbaa68dfc74",
       "version_major": 2,
       "version_minor": 0
      },
      "text/plain": [
       "HBox(children=(IntProgress(value=1, bar_style='info', max=1), HTML(value='')))"
      ]
     },
     "metadata": {},
     "output_type": "display_data"
    },
    {
     "name": "stdout",
     "output_type": "stream",
     "text": [
      "--------------------------\n",
      "[[[0 0 0]\n",
      "  [0 0 0]\n",
      "  [0 0 0]\n",
      "  ...\n",
      "  [0 0 0]\n",
      "  [0 0 0]\n",
      "  [0 0 0]]\n",
      "\n",
      " [[0 0 0]\n",
      "  [0 0 0]\n",
      "  [0 0 0]\n",
      "  ...\n",
      "  [0 0 0]\n",
      "  [0 0 0]\n",
      "  [0 0 0]]\n",
      "\n",
      " [[0 0 0]\n",
      "  [0 0 0]\n",
      "  [0 0 0]\n",
      "  ...\n",
      "  [0 0 0]\n",
      "  [0 0 0]\n",
      "  [0 0 0]]\n",
      "\n",
      " ...\n",
      "\n",
      " [[0 0 0]\n",
      "  [0 0 0]\n",
      "  [0 0 0]\n",
      "  ...\n",
      "  [0 0 0]\n",
      "  [0 0 0]\n",
      "  [0 0 0]]\n",
      "\n",
      " [[0 0 0]\n",
      "  [0 0 0]\n",
      "  [0 0 0]\n",
      "  ...\n",
      "  [0 0 0]\n",
      "  [0 0 0]\n",
      "  [0 0 0]]\n",
      "\n",
      " [[0 0 0]\n",
      "  [0 0 0]\n",
      "  [0 0 0]\n",
      "  ...\n",
      "  [0 0 0]\n",
      "  [0 0 0]\n",
      "  [0 0 0]]]\n"
     ]
    },
    {
     "ename": "ValueError",
     "evalue": "not enough values to unpack (expected 2, got 1)",
     "output_type": "error",
     "traceback": [
      "\u001b[0;31m---------------------------------------------------------------------------\u001b[0m",
      "\u001b[0;31mValueError\u001b[0m                                Traceback (most recent call last)",
      "\u001b[0;32m<ipython-input-7-f5d382dde93f>\u001b[0m in \u001b[0;36m<module>\u001b[0;34m\u001b[0m\n\u001b[1;32m     10\u001b[0m         \u001b[0mprint\u001b[0m\u001b[0;34m(\u001b[0m\u001b[0mlabel\u001b[0m\u001b[0;34m)\u001b[0m\u001b[0;34m\u001b[0m\u001b[0;34m\u001b[0m\u001b[0m\n\u001b[1;32m     11\u001b[0m         \u001b[0;31m#label = np.asarray(Image.open(label_path))\u001b[0m\u001b[0;34m\u001b[0m\u001b[0;34m\u001b[0m\u001b[0;34m\u001b[0m\u001b[0m\n\u001b[0;32m---> 12\u001b[0;31m         \u001b[0mheight\u001b[0m\u001b[0;34m,\u001b[0m\u001b[0mwidth\u001b[0m \u001b[0;34m=\u001b[0m \u001b[0mlabel\u001b[0m\u001b[0;34m.\u001b[0m\u001b[0mshape\u001b[0m\u001b[0;34m[\u001b[0m\u001b[0;34m:\u001b[0m\u001b[0;34m-\u001b[0m\u001b[0;36m2\u001b[0m\u001b[0;34m]\u001b[0m\u001b[0;34m\u001b[0m\u001b[0;34m\u001b[0m\u001b[0m\n\u001b[0m\u001b[1;32m     13\u001b[0m \u001b[0;34m\u001b[0m\u001b[0m\n\u001b[1;32m     14\u001b[0m         \u001b[0mrecord\u001b[0m \u001b[0;34m=\u001b[0m \u001b[0;34m{\u001b[0m\u001b[0;34m}\u001b[0m\u001b[0;34m\u001b[0m\u001b[0;34m\u001b[0m\u001b[0m\n",
      "\u001b[0;31mValueError\u001b[0m: not enough values to unpack (expected 2, got 1)"
     ]
    }
   ],
   "source": [
    "for f, folder in tqdm(enumerate(listdir(folder_images_path))):\n",
    "    print(\"--------------------------\")\n",
    "    images_path = join(folder_images_path, folder)\n",
    "    onlyimages = [ima for ima in listdir(images_path) if isfile(join(images_path, ima))]\n",
    "    for i, image in enumerate(onlyimages):\n",
    "        image_path = folder_images_path + folder + \"/\" + image \n",
    "        label_path = folder_label_path + folder + \"/\" + image\n",
    "        \n",
    "        label = np.asarray(Image.open(label_path))\n",
    "        height,width = label.shape[:]\n",
    "\n",
    "        record = {}\n",
    "        record[\"file_name\"] = image_path\n",
    "        record[\"image_id\"] = f + i\n",
    "        record[\"height\"] = height\n",
    "        record[\"width\"] = width\n",
    "        patterns = list(np.unique(label))[1:-1]\n",
    "        objs = []\n",
    "        for pattern in patterns:\n",
    "            category_id = int(str(pattern)[0])-1 #Class ids in KITTI-MOTS: (car:1) (pedestrian:2)\n",
    "            mask_coord = np.argwhere(label==pattern)\n",
    "            x0, y0 = mask_coord.min(axis=0)    \n",
    "            x1, y1 = mask_coord.max(axis=0)\n",
    "            print(\"XYXY: \", x0,y0,x1,y1)\n",
    "            bbox = [y0, x0, y1, x1]\n",
    "            obj = {\n",
    "                \"bbox\": bbox,\n",
    "                \"bbox_mode\":BoxMode.XYXY_ABS,\n",
    "                \"category_id\": category_id,\n",
    "                \"iscrowd\": 0\n",
    "            }\n",
    "            objs.append(obj)\n",
    "        record[\"annotations\"] = objs\n",
    "        print(record)\n"
   ]
  },
  {
   "cell_type": "code",
   "execution_count": null,
   "metadata": {},
   "outputs": [],
   "source": [
    "image_path = '/home/mcv/datasets/KITTI-MOTS/training/image_02/0000/000000.png'\n",
    "label_path = '/home/mcv/datasets/KITTI-MOTS/instances/0000/000000.png'\n",
    "label = np.asarray(Image.open(label_path))\n",
    "height,width = label.shape[:]\n",
    "print(label.shape[:])\n",
    "record = {}\n",
    "record[\"file_name\"] = image_path\n",
    "record[\"image_id\"] = \n",
    "record[\"height\"] = height\n",
    "record[\"width\"] = width\n",
    "\n",
    "patterns = list(np.unique(label))[1:-1]\n",
    "objs = []\n",
    "for pattern in patterns:\n",
    "    coord = np.argwhere(label==pattern)\n",
    "    x0, y0 = coord.min(axis=0)    \n",
    "    x1, y1 = coord.max(axis=0)\n",
    "    print(x0,y0)\n",
    "    print(x1,y1)\n",
    "    bbox = [y0, x0, y1, x1]\n",
    "    obj = {\n",
    "        \"bbox\": bbox,\n",
    "        \"bbox_mode\":BoxMode.XYXY_ABS,\n",
    "        \"category_id\": int(np.floor(label[coord[0][0]][label[0][1]]/1e3)-1),\n",
    "        \"iscrowd\": 0\n",
    "    }\n",
    "objs.append(obj)\n",
    "record[\"annotations\"] = objs"
   ]
  },
  {
   "cell_type": "markdown",
   "metadata": {},
   "source": [
    "# TRYING COCOTOOLS"
   ]
  },
  {
   "cell_type": "code",
   "execution_count": null,
   "metadata": {},
   "outputs": [],
   "source": [
    "list(np.unique(label))"
   ]
  },
  {
   "cell_type": "code",
   "execution_count": null,
   "metadata": {},
   "outputs": [],
   "source": [
    "with open(txt_path) as t:\n",
    "    lines = t.readlines()\n",
    "    #print(lines)\n",
    "    bb = toBbox(lines)\n",
    "    '''lines = t.readlines()\n",
    "    for line in lines:\n",
    "        print(line)\n",
    "        print(\"--------------------------------------\")\n",
    "        if(line[-1]==\"\\n\"):\n",
    "            line_splitted = line[:-1].split(' ')\n",
    "        else:\n",
    "            line_splitted = line.split(' ')\n",
    "        print(line_splitted)\n",
    "        rleObjs = line_splitted[5]\n",
    "        print(rleObjs)\n",
    "        bb = toBbox(line_splitted)\n",
    "        break'''"
   ]
  }
 ],
 "metadata": {
  "kernelspec": {
   "display_name": "Python 3",
   "language": "python",
   "name": "python3"
  },
  "language_info": {
   "codemirror_mode": {
    "name": "ipython",
    "version": 3
   },
   "file_extension": ".py",
   "mimetype": "text/x-python",
   "name": "python",
   "nbconvert_exporter": "python",
   "pygments_lexer": "ipython3",
   "version": "3.7.4"
  }
 },
 "nbformat": 4,
 "nbformat_minor": 2
}
